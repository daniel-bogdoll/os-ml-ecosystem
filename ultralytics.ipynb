{
 "cells": [
  {
   "cell_type": "code",
   "execution_count": null,
   "metadata": {},
   "outputs": [],
   "source": [
    "import fiftyone as fo\n",
    "from ultralytics import YOLO"
   ]
  },
  {
   "cell_type": "code",
   "execution_count": null,
   "metadata": {},
   "outputs": [],
   "source": [
    "# Load Voxel51 dataset\n",
    "dataset_v51 = fo.load_dataset(\"fisheye8k-100\")\n",
    "classes = dataset_v51.default_classes"
   ]
  },
  {
   "cell_type": "code",
   "execution_count": null,
   "metadata": {},
   "outputs": [],
   "source": [
    "# Dataset export in YOLO format\n",
    "for split in [\"train\", \"test\",\"val\"]:\n",
    "    split_view = dataset_v51.match_tags(split)\n",
    "\n",
    "    if split == \"test\":  # YOLO expects train and val\n",
    "        split = \"val\"\n",
    "\n",
    "    split_view.export(\n",
    "        dataset_type=fo.types.YOLOv5Dataset,\n",
    "        export_dir=\"ultralytics_data\",\n",
    "        label_field=\"detections\",\n",
    "        classes=classes,\n",
    "        split=split,\n",
    "    )"
   ]
  },
  {
   "cell_type": "code",
   "execution_count": null,
   "metadata": {},
   "outputs": [],
   "source": [
    "# Train model\n",
    "MODEL_NAME = \"yolo12n\"\n",
    "model = YOLO(MODEL_NAME, task=\"detect\")\n",
    "results = model.train(\n",
    "    data=\"ultralytics_data/dataset.yaml\",\n",
    "    project=\"ultralytics_runs\",\n",
    "    epochs=36,\n",
    "    patience=3,\n",
    "    batch=16,\n",
    "    imgsz=512,\n",
    "    exist_ok=True,\n",
    "    amp=True,\n",
    ")"
   ]
  },
  {
   "cell_type": "code",
   "execution_count": null,
   "metadata": {},
   "outputs": [],
   "source": [
    "metrics = model.val()\n",
    "print(f\"Training finished. Evaluation: {metrics}\")"
   ]
  },
  {
   "cell_type": "code",
   "execution_count": null,
   "metadata": {},
   "outputs": [],
   "source": [
    "# Apply model to Voxel51 dataset\n",
    "eval_view = dataset_v51.match_tags(\"test\")\n",
    "eval_view.apply_model(model, label_field=\"yolo12n\", confidence_thresh=0.2)"
   ]
  },
  {
   "cell_type": "code",
   "execution_count": null,
   "metadata": {},
   "outputs": [],
   "source": [
    "# Evaluate detections\n",
    "eval_view.evaluate_detections(\n",
    "    \"yolo12n\",\n",
    "    gt_field=\"detections\",\n",
    "    eval_key=\"eval_yolo12n\",\n",
    "    compute_mAP=True,\n",
    ")"
   ]
  },
  {
   "cell_type": "code",
   "execution_count": null,
   "metadata": {},
   "outputs": [],
   "source": [
    "# Launch Voxel51 GUI\n",
    "fo.launch_app(eval_view)"
   ]
  }
 ],
 "metadata": {
  "kernelspec": {
   "display_name": ".venv",
   "language": "python",
   "name": "python3"
  },
  "language_info": {
   "codemirror_mode": {
    "name": "ipython",
    "version": 3
   },
   "file_extension": ".py",
   "mimetype": "text/x-python",
   "name": "python",
   "nbconvert_exporter": "python",
   "pygments_lexer": "ipython3",
   "version": "3.12.3"
  }
 },
 "nbformat": 4,
 "nbformat_minor": 2
}
