{
 "cells": [
  {
   "cell_type": "code",
   "execution_count": null,
   "metadata": {},
   "outputs": [],
   "source": [
    "import fiftyone as fo\n",
    "import supervision as sv\n",
    "from ultralytics import YOLO\n",
    "from PIL import Image\n",
    "from transformers import AutoProcessor, AutoModelForObjectDetection\n",
    "import torch"
   ]
  },
  {
   "cell_type": "code",
   "execution_count": null,
   "metadata": {},
   "outputs": [],
   "source": [
    "# Get image from V51 dataset\n",
    "dataset = fo.load_dataset(\"fisheye8k-100\")\n",
    "sample = dataset.first()\n",
    "img_filepath = sample.filepath\n",
    "image = Image.open(img_filepath)"
   ]
  },
  {
   "cell_type": "code",
   "execution_count": null,
   "metadata": {},
   "outputs": [],
   "source": [
    "# Inference YOLO\n",
    "model = YOLO(\"yolo12n.pt\")\n",
    "result = model(image)[0]"
   ]
  },
  {
   "cell_type": "code",
   "execution_count": null,
   "metadata": {},
   "outputs": [],
   "source": [
    "# Inference DETR\n",
    "processor = AutoProcessor.from_pretrained(\"facebook/detr-resnet-50\")\n",
    "model = AutoModelForObjectDetection.from_pretrained(\"facebook/detr-resnet-50\")\n",
    "\n",
    "inputs = processor(images=image, return_tensors=\"pt\")\n",
    "\n",
    "with torch.no_grad():\n",
    "    outputs = model(**inputs)\n",
    "\n",
    "width, height = image.size\n",
    "target_size = torch.tensor([[height, width]])\n",
    "results = processor.post_process_object_detection(\n",
    "    outputs=outputs, target_sizes=target_size)[0]"
   ]
  },
  {
   "cell_type": "code",
   "execution_count": null,
   "metadata": {},
   "outputs": [],
   "source": [
    "# Load results into roboflow\n",
    "detections_ultralytics = sv.Detections.from_ultralytics(result)\n",
    "detections_hf = sv.Detections.from_transformers(\n",
    "    transformers_results=results,\n",
    "    id2label=model.config.id2label)\n",
    "\n",
    "# Combine detections\n",
    "detections = sv.Detections.merge([detections_ultralytics, detections_hf])\n"
   ]
  },
  {
   "cell_type": "code",
   "execution_count": null,
   "metadata": {},
   "outputs": [],
   "source": [
    "# Add detections to image\n",
    "box_annotator = sv.BoxAnnotator()\n",
    "label_annotator = sv.LabelAnnotator()\n",
    "\n",
    "annotated_image = box_annotator.annotate(\n",
    "    scene=image, detections=detections)\n",
    "annotated_image = label_annotator.annotate(\n",
    "    scene=annotated_image, detections=detections)\n",
    "\n",
    "# Visualize in Notebook\n",
    "annotated_image"
   ]
  }
 ],
 "metadata": {
  "kernelspec": {
   "display_name": ".venv",
   "language": "python",
   "name": "python3"
  },
  "language_info": {
   "codemirror_mode": {
    "name": "ipython",
    "version": 3
   },
   "file_extension": ".py",
   "mimetype": "text/x-python",
   "name": "python",
   "nbconvert_exporter": "python",
   "pygments_lexer": "ipython3",
   "version": "3.12.3"
  }
 },
 "nbformat": 4,
 "nbformat_minor": 2
}
