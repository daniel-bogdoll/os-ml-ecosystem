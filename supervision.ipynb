{
 "cells": [
  {
   "cell_type": "code",
   "execution_count": null,
   "metadata": {},
   "outputs": [],
   "source": [
    "import fiftyone as fo\n",
    "import supervision as sv\n",
    "from ultralytics import YOLO\n",
    "from PIL import Image\n",
    "from transformers import AutoProcessor, AutoModelForObjectDetection,\n"
   ]
  },
  {
   "cell_type": "code",
   "execution_count": 5,
   "metadata": {},
   "outputs": [],
   "source": [
    "# Get image from V51 dataset\n",
    "dataset = fo.load_dataset(\"fisheye8k-100\")\n",
    "sample = dataset.first()\n",
    "img_filepath = sample.filepath\n",
    "image = Image.open(img_filepath)"
   ]
  },
  {
   "cell_type": "code",
   "execution_count": 6,
   "metadata": {},
   "outputs": [
    {
     "name": "stdout",
     "output_type": "stream",
     "text": [
      "\n",
      "0: 576x640 1 person, 5 cars, 71.0ms\n",
      "Speed: 8.5ms preprocess, 71.0ms inference, 192.3ms postprocess per image at shape (1, 3, 576, 640)\n"
     ]
    }
   ],
   "source": [
    "# Inference YOLO\n",
    "model = YOLO(\"yolo12n.pt\")\n",
    "result = model(image)[0]"
   ]
  },
  {
   "cell_type": "code",
   "execution_count": null,
   "metadata": {},
   "outputs": [],
   "source": [
    "# Inference DETR\n",
    "\n",
    "processor = DetrImageProcessor.from_pretrained(\"facebook/detr-resnet-50\")\n",
    "model = DetrForObjectDetection.from_pretrained(\"facebook/detr-resnet-50\")\n",
    "\n",
    "image = Image.open(<SOURCE_IMAGE_PATH>)\n",
    "inputs = processor(images=image, return_tensors=\"pt\")\n",
    "\n",
    "with torch.no_grad():\n",
    "    outputs = model(**inputs)\n",
    "\n",
    "width, height = image.size\n",
    "target_size = torch.tensor([[height, width]])\n",
    "results = processor.post_process_object_detection(\n",
    "    outputs=outputs, target_sizes=target_size)[0]"
   ]
  },
  {
   "cell_type": "code",
   "execution_count": null,
   "metadata": {},
   "outputs": [],
   "source": [
    "# Load results into roboflow\n",
    "detections = sv.Detections.from_ultralytics(result)"
   ]
  }
 ],
 "metadata": {
  "kernelspec": {
   "display_name": ".venv",
   "language": "python",
   "name": "python3"
  },
  "language_info": {
   "codemirror_mode": {
    "name": "ipython",
    "version": 3
   },
   "file_extension": ".py",
   "mimetype": "text/x-python",
   "name": "python",
   "nbconvert_exporter": "python",
   "pygments_lexer": "ipython3",
   "version": "3.12.3"
  }
 },
 "nbformat": 4,
 "nbformat_minor": 2
}
