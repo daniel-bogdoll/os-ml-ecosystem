{
 "cells": [
  {
   "cell_type": "code",
   "execution_count": null,
   "metadata": {},
   "outputs": [],
   "source": [
    "import fiftyone as fo\n",
    "\n",
    "from utils.dataset_loader import FiftyOneTorchDatasetCOCO, TorchToHFDatasetCOCO\n",
    "from utils.hf_train import collate_fn, transform_batch\n",
    "from transformers import AutoProcessor, AutoModelForObjectDetection, EarlyStoppingCallback, Trainer, TrainingArguments\n",
    "from datasets import Split\n",
    "from functools import partial\n",
    "import torch\n",
    "from PIL import Image"
   ]
  },
  {
   "cell_type": "code",
   "execution_count": null,
   "metadata": {},
   "outputs": [],
   "source": [
    "# Dataset conversion into Hugging Face format\n",
    "dataset_v51 = fo.load_dataset(\"fisheye8k-100\")\n",
    "dataset_torch = FiftyOneTorchDatasetCOCO(dataset_v51, gt_field=\"detections\")\n",
    "converter_torch2hf = TorchToHFDatasetCOCO(dataset_torch)\n",
    "dataset_hf = converter_torch2hf.convert()"
   ]
  },
  {
   "cell_type": "code",
   "execution_count": null,
   "metadata": {},
   "outputs": [],
   "source": [
    "# Class Mapping from ID to Name\n",
    "classes = dataset_v51.default_classes\n",
    "id2label = {i: class_name for i, class_name in enumerate(classes)}\n",
    "label2id = {v: k for k, v in id2label.items()}"
   ]
  },
  {
   "cell_type": "code",
   "execution_count": null,
   "metadata": {},
   "outputs": [],
   "source": [
    "# Object Detection Finetuning\n",
    "# https://huggingface.co/docs/transformers/en/tasks/object_detection\n",
    "\n",
    "MODEL_NAME = \"microsoft/conditional-detr-resnet-50\"\n",
    "MAX_SIZE = 512 # If tiny GPU memory\n",
    "\n",
    "# Preprocess setup\n",
    "image_processor = AutoProcessor.from_pretrained(\n",
    "    MODEL_NAME,\n",
    "    size={\"max_height\": MAX_SIZE, \"max_width\": MAX_SIZE},\n",
    "    do_pad=True,\n",
    "    pad_size={\"height\": MAX_SIZE, \"width\": MAX_SIZE})\n",
    "\n",
    "# Model to be used\n",
    "model = AutoModelForObjectDetection.from_pretrained(\n",
    "    MODEL_NAME,\n",
    "    id2label=id2label,\n",
    "    label2id=label2id,\n",
    "    ignore_mismatched_sizes=True, # Allows for different number of classes compared to pre-trained\n",
    ")"
   ]
  },
  {
   "cell_type": "code",
   "execution_count": null,
   "metadata": {},
   "outputs": [],
   "source": [
    "# Apply transforms on-the-fly\n",
    "split_transform_batch = partial(\n",
    "            transform_batch,\n",
    "            image_processor=image_processor,\n",
    "        )\n",
    "\n",
    "dataset_hf[Split.TRAIN] = dataset_hf[Split.TRAIN].with_transform(\n",
    "            split_transform_batch)\n",
    "dataset_hf[Split.VALIDATION] = dataset_hf[Split.VALIDATION].with_transform(\n",
    "            split_transform_batch)\n",
    "dataset_hf[Split.TEST] = dataset_hf[Split.TEST].with_transform(\n",
    "            split_transform_batch)"
   ]
  },
  {
   "cell_type": "code",
   "execution_count": null,
   "metadata": {},
   "outputs": [],
   "source": [
    "# Training Arguments (well documented)\n",
    "training_args = TrainingArguments(\n",
    "    run_name=MODEL_NAME,\n",
    "    num_train_epochs=36,\n",
    "    fp16=True,\n",
    "    per_device_train_batch_size=16,\n",
    "    auto_find_batch_size=True,\n",
    "    dataloader_num_workers=8,\n",
    "    learning_rate=5e-05,\n",
    "    lr_scheduler_type=\"cosine\",\n",
    "    weight_decay=0.0001,\n",
    "    max_grad_norm=0.01,\n",
    "    metric_for_best_model=\"eval_loss\",\n",
    "    greater_is_better=False,\n",
    "    load_best_model_at_end=True,\n",
    "    eval_strategy=\"epoch\",\n",
    "    save_strategy=\"best\",\n",
    "    save_total_limit=1,\n",
    "    remove_unused_columns=False,\n",
    "    eval_do_concat_batches=False,\n",
    "    save_safetensors=False,\n",
    "    push_to_hub=False,\n",
    ")"
   ]
  },
  {
   "cell_type": "code",
   "execution_count": null,
   "metadata": {},
   "outputs": [],
   "source": [
    "# Stop training early if val performance stops improving\n",
    "early_stopping_callback = EarlyStoppingCallback(\n",
    "    early_stopping_patience=3,\n",
    "    early_stopping_threshold=0,\n",
    ")"
   ]
  },
  {
   "cell_type": "code",
   "execution_count": null,
   "metadata": {},
   "outputs": [],
   "source": [
    "# Hugging Face Trainer\n",
    "trainer = Trainer(\n",
    "    model=model,\n",
    "    args=training_args,\n",
    "    train_dataset=dataset_hf[Split.TRAIN],\n",
    "    eval_dataset=dataset_hf[Split.VALIDATION],\n",
    "    tokenizer=image_processor,\n",
    "    data_collator=collate_fn,\n",
    "    callbacks=[early_stopping_callback],\n",
    ")"
   ]
  },
  {
   "cell_type": "code",
   "execution_count": null,
   "metadata": {},
   "outputs": [],
   "source": [
    "# Training\n",
    "trainer.train()"
   ]
  },
  {
   "cell_type": "code",
   "execution_count": null,
   "metadata": {},
   "outputs": [],
   "source": [
    "# Evaluation\n",
    "metrics = trainer.evaluate(eval_dataset=dataset_hf[Split.TEST])\n",
    "print(f\"Model training completed. Evaluation results: {metrics}\")"
   ]
  },
  {
   "cell_type": "code",
   "execution_count": null,
   "metadata": {},
   "outputs": [],
   "source": [
    "# Run inference on test set in Voxel51\n",
    "eval_view = dataset_v51.match_tags(\"test\")\n",
    "device = torch.device('cuda' if torch.cuda.is_available() else 'cpu')\n",
    "with torch.no_grad():\n",
    "    for sample in eval_view.iter_samples(progress=True, autosave=True):\n",
    "        image_width = sample.metadata.width\n",
    "        image_height = sample.metadata.height\n",
    "        img_filepath = sample.filepath\n",
    "        image = Image.open(img_filepath)\n",
    "\n",
    "        inputs = image_processor(images=[image], return_tensors=\"pt\")\n",
    "        outputs = model(**inputs.to(device))\n",
    "        target_sizes = torch.tensor([[image.size[1], image.size[0]]])\n",
    "        results = image_processor.post_process_object_detection(outputs, threshold=0.2, target_sizes=target_sizes)[0]\n",
    "\n",
    "        # Transfer output to Voxel51\n",
    "        detections = []\n",
    "        for score, label, box in zip(\n",
    "            results[\"scores\"], results[\"labels\"], results[\"boxes\"]\n",
    "        ):\n",
    "            # Bbox is in absolute coordinates x, y, x2, y2\n",
    "            box = box.tolist()\n",
    "            text_label = model.config.id2label[label.item()]\n",
    "\n",
    "            # Voxel51 requires relative coordinates between 0 and 1\n",
    "            top_left_x = box[0] / image_width\n",
    "            top_left_y = box[1] / image_height\n",
    "            box_width = (box[2] - box[0]) / image_width\n",
    "            box_height = (box[3] - box[1]) / image_height\n",
    "            detection = fo.Detection(\n",
    "                label=text_label,\n",
    "                bounding_box=[\n",
    "                    top_left_x,\n",
    "                    top_left_y,\n",
    "                    box_width,\n",
    "                    box_height,\n",
    "                ],\n",
    "                confidence=score.item(),\n",
    "            )\n",
    "            detections.append(detection)\n",
    "\n",
    "        sample[\"conditional_detr\"] = fo.Detections(detections=detections)\n"
   ]
  },
  {
   "cell_type": "code",
   "execution_count": null,
   "metadata": {},
   "outputs": [],
   "source": [
    "# Evaluate detections\n",
    "eval_view.evaluate_detections(\n",
    "    \"conditional_detr\",\n",
    "    gt_field=\"detections\",\n",
    "    eval_key=\"eval_conditional_detr\",\n",
    "    compute_mAP=True,\n",
    ")"
   ]
  },
  {
   "cell_type": "code",
   "execution_count": null,
   "metadata": {},
   "outputs": [],
   "source": [
    "# Launch Voxel51 GUI\n",
    "fo.launch_app(eval_view)"
   ]
  }
 ],
 "metadata": {
  "kernelspec": {
   "display_name": ".venv",
   "language": "python",
   "name": "python3"
  },
  "language_info": {
   "codemirror_mode": {
    "name": "ipython",
    "version": 3
   },
   "file_extension": ".py",
   "mimetype": "text/x-python",
   "name": "python",
   "nbconvert_exporter": "python",
   "pygments_lexer": "ipython3",
   "version": "3.12.3"
  }
 },
 "nbformat": 4,
 "nbformat_minor": 2
}
